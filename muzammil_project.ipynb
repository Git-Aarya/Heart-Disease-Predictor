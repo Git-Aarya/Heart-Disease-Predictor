{
 "cells": [
  {
   "cell_type": "markdown",
   "id": "9e08a86e-22dd-4128-a471-f43753f1cb3f",
   "metadata": {},
   "source": [
    "# Heart Disease Prediction Using Machine Learning"
   ]
  },
  {
   "cell_type": "markdown",
   "id": "39db7152-03ee-4c9c-ae26-d1ac21b538e3",
   "metadata": {},
   "source": [
    "## Introduction"
   ]
  },
  {
   "cell_type": "markdown",
   "id": "5fbdc751-91fc-420f-ab61-5bea4e6e77f8",
   "metadata": {},
   "source": [
    "Heart disease is a major health issue worldwide, and it is difficult to discover the disease before symptoms emerge. Our goal of this project is to utilize machine learning techniques and predict whether or not a person has heart disease. This will be done through our dataset, which is derived from the Cleveland Heart Disease Database and consists of 14 important attributes selected from a total of 76. It encompasses a range of variables including physical and psychological details, such as age, sex, cholesterol, etc. It also categorizes individuals based on the absence (value 0) or presence (values 1-4) of heart disease, providing a clear framework for analyzing the predictive power of medical test results. The columns are as follows:\n",
    "\n",
    "1. **age**: age\n",
    "2. **sex**: sex (1 = male, 0 = female)\n",
    "3. **cp**: chest pain type\n",
    "4. **trestbps**: resting blood pressure in mmHg\n",
    "5. **chol**: serum cholestoral in mg/dl\n",
    "6. **fbs**: fasting blood sugar > 120 mg/dl? (1 = True, 0 = False)\n",
    "7. **restecg**: resting electrocardiographic results\n",
    "8. **thalach**: maximum heart rate achieved\n",
    "9. **exang**: whether exercise induced angina (1 = True, 0 = False)\n",
    "10. **oldpeak**: ST depression induced by exercise, relative to rest\n",
    "11. **slope**: the slope of the peak exercise ST segment (1 = upslope, 2 = flat, 3 = `b`downslope)\n",
    "12. **ca**: number of major vessels (0-3) coloured by flourosopy\n",
    "13. **thal**: (3 = normal, 6 = fixed defect, 7 = reversable defect)\n",
    "14. **num**: diagnosis of heart disease (1,2,3,4 = presence, 0 = no presence)"
   ]
  },
  {
   "cell_type": "markdown",
   "id": "b7562fba-b000-4464-8839-e0e7206a071a",
   "metadata": {},
   "source": [
    "### Methods\n",
    "\n",
    "#### Preprocessing and exploratory data analysis\n",
    "\n",
    "1) Imported libraries and `processed.cleveland.data` dataset from the internet.\n",
    "\n",
    "2) Cleaned and tidied data to make it usable, by assigning column types and adding a new column, `diag`.\n",
    "\n",
    "3) Split the data into training and testing sets, working **only** with the training set until the very end.\n",
    "\n",
    "4) Summarized the training set to make predictions about how we want our classifier to work.\n",
    "\n",
    "5) Visualized the relationship between `thalac` and `chol` to get a deeper understanding of how the data is distributed.\n",
    "\n",
    "\n",
    "#### Finding the best $k$ value\n",
    "\n",
    "Our goal is to find the best value for the $k$-nearest neighbours, providing the highest accuracy in predictions. In the code below, we create a classifier and perform cross-validation to split the training data, train the model with one set and use the other to evaluate it because we can not use testing data. Our next steps are:\n",
    "\n",
    "1) Use the `recipe` function to center and scale the data.\n",
    "\n",
    "2) Perform cross-validation with ten folds, using `vfold_cv`, on the training data. We use ten folds because if we only split the data once, the results strongly depend on the observations that end up being in the validation set, so using more folds increases the accuracy.\n",
    "\n",
    "3) Create a $k$-nearest model with `neighbours = tune()` instead of a value to find the best value of $k$ for $k$-nearest neighbours.\n",
    "\n",
    "4) Add the recipe and model to a workflow, using `tune_grid` to fit. This worfklow runs cross validation on a range of $k$-nearest neighbours values that is specified in `gridvals`.\n",
    "\n",
    "5) Find the best $k$ value by filtering for accuracy and plotting a line plot with the accuracy estimate on the y-axis and $k$ (neighbours) on the x-axis.\n",
    "\n",
    "6) Ensure that the model does not underfit or overfit, and is more accurate than a majority classifier, using our new $k$.\n",
    "\n",
    "#### Visualizing our results\n",
    "\n",
    "1) To visualize our results, we plotted max heart rate on the x-axis and cholesterol levels on the y-axis, using diagnosis to colour the points.\n",
    "\n",
    "2) To check for over/underfitting, we coloured the background of the graph based on what prediction would be made at every possible point. This also allowed us to quickly identify how the model classified patients, and where the boundaries were.\n",
    "\n",
    "#### Testing our classifier\n",
    "\n",
    "1) Made a new model specification for the best $k$ value chosen, combined with the recipe made earlier in a workflow, and fit the classifier to our training set.\n",
    "\n",
    "2) Used `predict` on the testing set to evaluate the classifier's predicition accuracy on data it hadn't seen before.\n",
    "\n",
    "3) Produced a confusion matrix to get a sense of which diagnoses the classifier was more accurate at giving, and what effects that has on real world application.\n",
    "\n",
    "4) Tested the accuracy of our classifier when given data from Hungary."
   ]
  },
  {
   "cell_type": "markdown",
   "id": "ea390971-e959-44a3-a651-6c1dfafa9aaf",
   "metadata": {},
   "source": [
    "## Preliminary Exploratory Data Analysis"
   ]
  },
  {
   "cell_type": "code",
   "execution_count": 2,
   "id": "e7837ed7-a874-4c89-ba13-db6f7a662863",
   "metadata": {},
   "outputs": [],
   "source": [
    "# importing libraries\n",
    "library(tidyverse)\n",
    "library(tidymodels)\n",
    "library(repr)\n",
    "library(RColorBrewer)\n",
    "\n",
    "# formatting graphs\n",
    "options(repr.plot.width = 12, repr.plot.height = 6)"
   ]
  },
  {
   "cell_type": "markdown",
   "id": "4d1c415c-a439-4a62-892d-c12048b8066b",
   "metadata": {},
   "source": [
    "## Importing the dataset \n"
   ]
  },
  {
   "cell_type": "markdown",
   "id": "4a9a2b3f-2e6e-459c-8351-a7230021d1d4",
   "metadata": {},
   "source": [
    "We use the  `read_csv` to import the processed.cleveland.data dataset from the online directory."
   ]
  },
  {
   "cell_type": "code",
   "execution_count": null,
   "id": "7b2260de-20cc-498f-bac1-a5167eac8b24",
   "metadata": {},
   "outputs": [],
   "source": []
  },
  {
   "cell_type": "code",
   "execution_count": null,
   "id": "99c3f0f8-74bf-4782-8732-a2712f2a4be3",
   "metadata": {},
   "outputs": [],
   "source": []
  },
  {
   "cell_type": "code",
   "execution_count": null,
   "id": "ad8b8dba-1078-4ffd-9a22-15fda2afce2e",
   "metadata": {},
   "outputs": [],
   "source": []
  },
  {
   "cell_type": "code",
   "execution_count": null,
   "id": "c86fb561-e82d-4244-ab21-1004359dc93e",
   "metadata": {},
   "outputs": [],
   "source": []
  },
  {
   "cell_type": "code",
   "execution_count": null,
   "id": "164930f0-c33c-4726-9835-41333bb8027d",
   "metadata": {},
   "outputs": [],
   "source": []
  },
  {
   "cell_type": "code",
   "execution_count": null,
   "id": "7f33cdc3-2784-4d0a-aa38-b6d1d57134f1",
   "metadata": {},
   "outputs": [],
   "source": []
  },
  {
   "cell_type": "code",
   "execution_count": null,
   "id": "eff9065f-af4c-493e-92cd-b3316433b4c2",
   "metadata": {},
   "outputs": [],
   "source": []
  },
  {
   "cell_type": "code",
   "execution_count": null,
   "id": "00c0bed0-a0e3-4268-a1ec-71f92b375d5e",
   "metadata": {},
   "outputs": [],
   "source": []
  },
  {
   "cell_type": "code",
   "execution_count": null,
   "id": "c0a118b4-39f6-423f-a8f0-08d16cae72cb",
   "metadata": {},
   "outputs": [],
   "source": []
  },
  {
   "cell_type": "code",
   "execution_count": 25,
   "id": "10b49a97-9e25-4830-8b86-5cdc8cc04eb4",
   "metadata": {},
   "outputs": [
    {
     "name": "stderr",
     "output_type": "stream",
     "text": [
      "\u001b[1mRows: \u001b[22m\u001b[34m303\u001b[39m \u001b[1mColumns: \u001b[22m\u001b[34m14\u001b[39m\n",
      "\u001b[36m──\u001b[39m \u001b[1mColumn specification\u001b[22m \u001b[36m────────────────────────────────────────────────────────\u001b[39m\n",
      "\u001b[1mDelimiter:\u001b[22m \",\"\n",
      "\u001b[31mchr\u001b[39m  (2): ca, thal\n",
      "\u001b[32mdbl\u001b[39m (12): age, sex, cp, trestbps, chol, fbs, restecg, thalach, exang, oldpea...\n",
      "\n",
      "\u001b[36mℹ\u001b[39m Use `spec()` to retrieve the full column specification for this data.\n",
      "\u001b[36mℹ\u001b[39m Specify the column types or set `show_col_types = FALSE` to quiet this message.\n"
     ]
    },
    {
     "data": {
      "text/html": [
       "<table class=\"dataframe\">\n",
       "<caption>A tibble: 6 × 14</caption>\n",
       "<thead>\n",
       "\t<tr><th scope=col>age</th><th scope=col>sex</th><th scope=col>cp</th><th scope=col>trestbps</th><th scope=col>chol</th><th scope=col>fbs</th><th scope=col>restecg</th><th scope=col>thalach</th><th scope=col>exang</th><th scope=col>oldpeak</th><th scope=col>slope</th><th scope=col>ca</th><th scope=col>thal</th><th scope=col>num</th></tr>\n",
       "\t<tr><th scope=col>&lt;dbl&gt;</th><th scope=col>&lt;dbl&gt;</th><th scope=col>&lt;dbl&gt;</th><th scope=col>&lt;dbl&gt;</th><th scope=col>&lt;dbl&gt;</th><th scope=col>&lt;dbl&gt;</th><th scope=col>&lt;dbl&gt;</th><th scope=col>&lt;dbl&gt;</th><th scope=col>&lt;dbl&gt;</th><th scope=col>&lt;dbl&gt;</th><th scope=col>&lt;dbl&gt;</th><th scope=col>&lt;chr&gt;</th><th scope=col>&lt;chr&gt;</th><th scope=col>&lt;dbl&gt;</th></tr>\n",
       "</thead>\n",
       "<tbody>\n",
       "\t<tr><td>63</td><td>1</td><td>1</td><td>145</td><td>233</td><td>1</td><td>2</td><td>150</td><td>0</td><td>2.3</td><td>3</td><td>0.0</td><td>6.0</td><td>0</td></tr>\n",
       "\t<tr><td>67</td><td>1</td><td>4</td><td>160</td><td>286</td><td>0</td><td>2</td><td>108</td><td>1</td><td>1.5</td><td>2</td><td>3.0</td><td>3.0</td><td>2</td></tr>\n",
       "\t<tr><td>67</td><td>1</td><td>4</td><td>120</td><td>229</td><td>0</td><td>2</td><td>129</td><td>1</td><td>2.6</td><td>2</td><td>2.0</td><td>7.0</td><td>1</td></tr>\n",
       "\t<tr><td>37</td><td>1</td><td>3</td><td>130</td><td>250</td><td>0</td><td>0</td><td>187</td><td>0</td><td>3.5</td><td>3</td><td>0.0</td><td>3.0</td><td>0</td></tr>\n",
       "\t<tr><td>41</td><td>0</td><td>2</td><td>130</td><td>204</td><td>0</td><td>2</td><td>172</td><td>0</td><td>1.4</td><td>1</td><td>0.0</td><td>3.0</td><td>0</td></tr>\n",
       "\t<tr><td>56</td><td>1</td><td>2</td><td>120</td><td>236</td><td>0</td><td>0</td><td>178</td><td>0</td><td>0.8</td><td>1</td><td>0.0</td><td>3.0</td><td>0</td></tr>\n",
       "</tbody>\n",
       "</table>\n"
      ],
      "text/latex": [
       "A tibble: 6 × 14\n",
       "\\begin{tabular}{llllllllllllll}\n",
       " age & sex & cp & trestbps & chol & fbs & restecg & thalach & exang & oldpeak & slope & ca & thal & num\\\\\n",
       " <dbl> & <dbl> & <dbl> & <dbl> & <dbl> & <dbl> & <dbl> & <dbl> & <dbl> & <dbl> & <dbl> & <chr> & <chr> & <dbl>\\\\\n",
       "\\hline\n",
       "\t 63 & 1 & 1 & 145 & 233 & 1 & 2 & 150 & 0 & 2.3 & 3 & 0.0 & 6.0 & 0\\\\\n",
       "\t 67 & 1 & 4 & 160 & 286 & 0 & 2 & 108 & 1 & 1.5 & 2 & 3.0 & 3.0 & 2\\\\\n",
       "\t 67 & 1 & 4 & 120 & 229 & 0 & 2 & 129 & 1 & 2.6 & 2 & 2.0 & 7.0 & 1\\\\\n",
       "\t 37 & 1 & 3 & 130 & 250 & 0 & 0 & 187 & 0 & 3.5 & 3 & 0.0 & 3.0 & 0\\\\\n",
       "\t 41 & 0 & 2 & 130 & 204 & 0 & 2 & 172 & 0 & 1.4 & 1 & 0.0 & 3.0 & 0\\\\\n",
       "\t 56 & 1 & 2 & 120 & 236 & 0 & 0 & 178 & 0 & 0.8 & 1 & 0.0 & 3.0 & 0\\\\\n",
       "\\end{tabular}\n"
      ],
      "text/markdown": [
       "\n",
       "A tibble: 6 × 14\n",
       "\n",
       "| age &lt;dbl&gt; | sex &lt;dbl&gt; | cp &lt;dbl&gt; | trestbps &lt;dbl&gt; | chol &lt;dbl&gt; | fbs &lt;dbl&gt; | restecg &lt;dbl&gt; | thalach &lt;dbl&gt; | exang &lt;dbl&gt; | oldpeak &lt;dbl&gt; | slope &lt;dbl&gt; | ca &lt;chr&gt; | thal &lt;chr&gt; | num &lt;dbl&gt; |\n",
       "|---|---|---|---|---|---|---|---|---|---|---|---|---|---|\n",
       "| 63 | 1 | 1 | 145 | 233 | 1 | 2 | 150 | 0 | 2.3 | 3 | 0.0 | 6.0 | 0 |\n",
       "| 67 | 1 | 4 | 160 | 286 | 0 | 2 | 108 | 1 | 1.5 | 2 | 3.0 | 3.0 | 2 |\n",
       "| 67 | 1 | 4 | 120 | 229 | 0 | 2 | 129 | 1 | 2.6 | 2 | 2.0 | 7.0 | 1 |\n",
       "| 37 | 1 | 3 | 130 | 250 | 0 | 0 | 187 | 0 | 3.5 | 3 | 0.0 | 3.0 | 0 |\n",
       "| 41 | 0 | 2 | 130 | 204 | 0 | 2 | 172 | 0 | 1.4 | 1 | 0.0 | 3.0 | 0 |\n",
       "| 56 | 1 | 2 | 120 | 236 | 0 | 0 | 178 | 0 | 0.8 | 1 | 0.0 | 3.0 | 0 |\n",
       "\n"
      ],
      "text/plain": [
       "  age sex cp trestbps chol fbs restecg thalach exang oldpeak slope ca  thal num\n",
       "1 63  1   1  145      233  1   2       150     0     2.3     3     0.0 6.0  0  \n",
       "2 67  1   4  160      286  0   2       108     1     1.5     2     3.0 3.0  2  \n",
       "3 67  1   4  120      229  0   2       129     1     2.6     2     2.0 7.0  1  \n",
       "4 37  1   3  130      250  0   0       187     0     3.5     3     0.0 3.0  0  \n",
       "5 41  0   2  130      204  0   2       172     0     1.4     1     0.0 3.0  0  \n",
       "6 56  1   2  120      236  0   0       178     0     0.8     1     0.0 3.0  0  "
      ]
     },
     "metadata": {},
     "output_type": "display_data"
    },
    {
     "data": {
      "text/html": [
       "303"
      ],
      "text/latex": [
       "303"
      ],
      "text/markdown": [
       "303"
      ],
      "text/plain": [
       "[1] 303"
      ]
     },
     "metadata": {},
     "output_type": "display_data"
    }
   ],
   "source": [
    "cleveland<- read_csv(\"data/processed_cleveland.csv\")\n",
    "\n",
    "head(cleveland)\n",
    "\n",
    "nrow(cleveland)"
   ]
  },
  {
   "cell_type": "markdown",
   "id": "973d357e-dc6b-45d5-923c-e8608e6687bd",
   "metadata": {},
   "source": [
    "## Cleaning and Tidying the Data "
   ]
  },
  {
   "cell_type": "markdown",
   "id": "51f3630f-efce-4fd1-afca-0a4eeb2b47d2",
   "metadata": {},
   "source": [
    "\n",
    "\n",
    "- Some of the columns are being read as `chr` instead of `dbl` because they include \"?\" for unknown values. So we will the observations with \"?\" to NA so their columns can be assigned the types we need.\n",
    "\n",
    "- Then we change the names of the columns to make it more readable. \n",
    "- We also changed the value of the **num** which we renamed to the **diagnosis** column. The **diagnosis** column will now have only True or False values so that we can predict whether a person has a disease or not. We change 0 which indicates an absence of disease to FALSE and we change the value of (1,2,3,4,5) to TRUE so that we can indicate that the person has a disease irrespective of the severity which the numbers indicate.\n"
   ]
  },
  {
   "cell_type": "code",
   "execution_count": 26,
   "id": "ccd63c3c-240b-45c4-9c4a-9e2442df4d14",
   "metadata": {},
   "outputs": [
    {
     "name": "stderr",
     "output_type": "stream",
     "text": [
      "Warning message:\n",
      "“\u001b[1m\u001b[22mThere was 1 warning in `mutate()`.\n",
      "\u001b[1m\u001b[22m\u001b[36mℹ\u001b[39m In argument: `ca = as.integer(ca)`.\n",
      "Caused by warning:\n",
      "\u001b[33m!\u001b[39m NAs introduced by coercion”\n"
     ]
    },
    {
     "data": {
      "text/html": [
       "<table class=\"dataframe\">\n",
       "<caption>A tibble: 6 × 14</caption>\n",
       "<thead>\n",
       "\t<tr><th scope=col>age</th><th scope=col>sex</th><th scope=col>chest_pain</th><th scope=col>blood_pressure</th><th scope=col>cholesterol</th><th scope=col>blood_sugar</th><th scope=col>rest_ecg</th><th scope=col>heart_rate</th><th scope=col>angina</th><th scope=col>st_depression</th><th scope=col>slope</th><th scope=col>num_vessels</th><th scope=col>thal</th><th scope=col>diagnosis</th></tr>\n",
       "\t<tr><th scope=col>&lt;dbl&gt;</th><th scope=col>&lt;fct&gt;</th><th scope=col>&lt;fct&gt;</th><th scope=col>&lt;dbl&gt;</th><th scope=col>&lt;dbl&gt;</th><th scope=col>&lt;fct&gt;</th><th scope=col>&lt;fct&gt;</th><th scope=col>&lt;dbl&gt;</th><th scope=col>&lt;fct&gt;</th><th scope=col>&lt;dbl&gt;</th><th scope=col>&lt;fct&gt;</th><th scope=col>&lt;int&gt;</th><th scope=col>&lt;fct&gt;</th><th scope=col>&lt;fct&gt;</th></tr>\n",
       "</thead>\n",
       "<tbody>\n",
       "\t<tr><td>63</td><td>1</td><td>1</td><td>145</td><td>233</td><td>1</td><td>2</td><td>150</td><td>0</td><td>2.3</td><td>3</td><td>0</td><td>6.0</td><td>FALSE</td></tr>\n",
       "\t<tr><td>67</td><td>1</td><td>4</td><td>160</td><td>286</td><td>0</td><td>2</td><td>108</td><td>1</td><td>1.5</td><td>2</td><td>3</td><td>3.0</td><td>TRUE </td></tr>\n",
       "\t<tr><td>67</td><td>1</td><td>4</td><td>120</td><td>229</td><td>0</td><td>2</td><td>129</td><td>1</td><td>2.6</td><td>2</td><td>2</td><td>7.0</td><td>TRUE </td></tr>\n",
       "\t<tr><td>37</td><td>1</td><td>3</td><td>130</td><td>250</td><td>0</td><td>0</td><td>187</td><td>0</td><td>3.5</td><td>3</td><td>0</td><td>3.0</td><td>FALSE</td></tr>\n",
       "\t<tr><td>41</td><td>0</td><td>2</td><td>130</td><td>204</td><td>0</td><td>2</td><td>172</td><td>0</td><td>1.4</td><td>1</td><td>0</td><td>3.0</td><td>FALSE</td></tr>\n",
       "\t<tr><td>56</td><td>1</td><td>2</td><td>120</td><td>236</td><td>0</td><td>0</td><td>178</td><td>0</td><td>0.8</td><td>1</td><td>0</td><td>3.0</td><td>FALSE</td></tr>\n",
       "</tbody>\n",
       "</table>\n"
      ],
      "text/latex": [
       "A tibble: 6 × 14\n",
       "\\begin{tabular}{llllllllllllll}\n",
       " age & sex & chest\\_pain & blood\\_pressure & cholesterol & blood\\_sugar & rest\\_ecg & heart\\_rate & angina & st\\_depression & slope & num\\_vessels & thal & diagnosis\\\\\n",
       " <dbl> & <fct> & <fct> & <dbl> & <dbl> & <fct> & <fct> & <dbl> & <fct> & <dbl> & <fct> & <int> & <fct> & <fct>\\\\\n",
       "\\hline\n",
       "\t 63 & 1 & 1 & 145 & 233 & 1 & 2 & 150 & 0 & 2.3 & 3 & 0 & 6.0 & FALSE\\\\\n",
       "\t 67 & 1 & 4 & 160 & 286 & 0 & 2 & 108 & 1 & 1.5 & 2 & 3 & 3.0 & TRUE \\\\\n",
       "\t 67 & 1 & 4 & 120 & 229 & 0 & 2 & 129 & 1 & 2.6 & 2 & 2 & 7.0 & TRUE \\\\\n",
       "\t 37 & 1 & 3 & 130 & 250 & 0 & 0 & 187 & 0 & 3.5 & 3 & 0 & 3.0 & FALSE\\\\\n",
       "\t 41 & 0 & 2 & 130 & 204 & 0 & 2 & 172 & 0 & 1.4 & 1 & 0 & 3.0 & FALSE\\\\\n",
       "\t 56 & 1 & 2 & 120 & 236 & 0 & 0 & 178 & 0 & 0.8 & 1 & 0 & 3.0 & FALSE\\\\\n",
       "\\end{tabular}\n"
      ],
      "text/markdown": [
       "\n",
       "A tibble: 6 × 14\n",
       "\n",
       "| age &lt;dbl&gt; | sex &lt;fct&gt; | chest_pain &lt;fct&gt; | blood_pressure &lt;dbl&gt; | cholesterol &lt;dbl&gt; | blood_sugar &lt;fct&gt; | rest_ecg &lt;fct&gt; | heart_rate &lt;dbl&gt; | angina &lt;fct&gt; | st_depression &lt;dbl&gt; | slope &lt;fct&gt; | num_vessels &lt;int&gt; | thal &lt;fct&gt; | diagnosis &lt;fct&gt; |\n",
       "|---|---|---|---|---|---|---|---|---|---|---|---|---|---|\n",
       "| 63 | 1 | 1 | 145 | 233 | 1 | 2 | 150 | 0 | 2.3 | 3 | 0 | 6.0 | FALSE |\n",
       "| 67 | 1 | 4 | 160 | 286 | 0 | 2 | 108 | 1 | 1.5 | 2 | 3 | 3.0 | TRUE  |\n",
       "| 67 | 1 | 4 | 120 | 229 | 0 | 2 | 129 | 1 | 2.6 | 2 | 2 | 7.0 | TRUE  |\n",
       "| 37 | 1 | 3 | 130 | 250 | 0 | 0 | 187 | 0 | 3.5 | 3 | 0 | 3.0 | FALSE |\n",
       "| 41 | 0 | 2 | 130 | 204 | 0 | 2 | 172 | 0 | 1.4 | 1 | 0 | 3.0 | FALSE |\n",
       "| 56 | 1 | 2 | 120 | 236 | 0 | 0 | 178 | 0 | 0.8 | 1 | 0 | 3.0 | FALSE |\n",
       "\n"
      ],
      "text/plain": [
       "  age sex chest_pain blood_pressure cholesterol blood_sugar rest_ecg heart_rate\n",
       "1 63  1   1          145            233         1           2        150       \n",
       "2 67  1   4          160            286         0           2        108       \n",
       "3 67  1   4          120            229         0           2        129       \n",
       "4 37  1   3          130            250         0           0        187       \n",
       "5 41  0   2          130            204         0           2        172       \n",
       "6 56  1   2          120            236         0           0        178       \n",
       "  angina st_depression slope num_vessels thal diagnosis\n",
       "1 0      2.3           3     0           6.0  FALSE    \n",
       "2 1      1.5           2     3           3.0  TRUE     \n",
       "3 1      2.6           2     2           7.0  TRUE     \n",
       "4 0      3.5           3     0           3.0  FALSE    \n",
       "5 0      1.4           1     0           3.0  FALSE    \n",
       "6 0      0.8           1     0           3.0  FALSE    "
      ]
     },
     "metadata": {},
     "output_type": "display_data"
    },
    {
     "data": {
      "text/html": [
       "303"
      ],
      "text/latex": [
       "303"
      ],
      "text/markdown": [
       "303"
      ],
      "text/plain": [
       "[1] 303"
      ]
     },
     "metadata": {},
     "output_type": "display_data"
    }
   ],
   "source": [
    "cleveland_data <- cleveland |>\n",
    "                    mutate(sex = as_factor(sex),\n",
    "                       cp = as_factor(cp),\n",
    "                       fbs = as_factor(fbs),\n",
    "                       restecg = as_factor(restecg),\n",
    "                       exang = as_factor(exang),\n",
    "                       slope = as_factor(slope),\n",
    "                       thal = as_factor(thal),\n",
    "                       num = as_factor(ifelse(is.na(num), NA, (num > 0))),\n",
    "                       ca = as.integer(ca))|>\n",
    "                rename(chest_pain = cp,\n",
    "                       blood_pressure = trestbps,\n",
    "                       cholesterol = chol,\n",
    "                       blood_sugar = fbs,\n",
    "                       rest_ecg = restecg,\n",
    "                       heart_rate = thalach,\n",
    "                       angina = exang,\n",
    "                       st_depression = oldpeak,\n",
    "                       num_vessels = ca,\n",
    "                       diagnosis = num)\n",
    "\n",
    "\n",
    "head(cleveland_data)\n",
    "\n",
    "nrow(cleveland_data)"
   ]
  },
  {
   "cell_type": "markdown",
   "id": "9fc70a99-f509-4a09-be14-bb55862f0ded",
   "metadata": {},
   "source": [
    "## Selecting our predictor variables"
   ]
  },
  {
   "cell_type": "markdown",
   "id": "6024ecea-4d27-4c89-8d5b-e423e3bc9fec",
   "metadata": {},
   "source": [
    "## Splitting our data into training and testing sets"
   ]
  },
  {
   "cell_type": "markdown",
   "id": "aa8765ff-1b77-4e62-85cf-feca0f261e8e",
   "metadata": {},
   "source": [
    "\n",
    "- We split our data into training and testing sets. We use the `diagnosis` column to be stratified since we want to predict the values.\n",
    "- We use the `initial_split` function to split our dataframe into 75% training and 25% testing.\n",
    "- The 75-25 split allows us to train our model on as many data points as possible while also keeping enough data for effective testing later."
   ]
  },
  {
   "cell_type": "code",
   "execution_count": 27,
   "id": "24d3f285-f7ee-4ee7-9a07-44f47c463a76",
   "metadata": {},
   "outputs": [
    {
     "data": {
      "text/html": [
       "<table class=\"dataframe\">\n",
       "<caption>A tibble: 6 × 14</caption>\n",
       "<thead>\n",
       "\t<tr><th scope=col>age</th><th scope=col>sex</th><th scope=col>chest_pain</th><th scope=col>blood_pressure</th><th scope=col>cholesterol</th><th scope=col>blood_sugar</th><th scope=col>rest_ecg</th><th scope=col>heart_rate</th><th scope=col>angina</th><th scope=col>st_depression</th><th scope=col>slope</th><th scope=col>num_vessels</th><th scope=col>thal</th><th scope=col>diagnosis</th></tr>\n",
       "\t<tr><th scope=col>&lt;dbl&gt;</th><th scope=col>&lt;fct&gt;</th><th scope=col>&lt;fct&gt;</th><th scope=col>&lt;dbl&gt;</th><th scope=col>&lt;dbl&gt;</th><th scope=col>&lt;fct&gt;</th><th scope=col>&lt;fct&gt;</th><th scope=col>&lt;dbl&gt;</th><th scope=col>&lt;fct&gt;</th><th scope=col>&lt;dbl&gt;</th><th scope=col>&lt;fct&gt;</th><th scope=col>&lt;int&gt;</th><th scope=col>&lt;fct&gt;</th><th scope=col>&lt;fct&gt;</th></tr>\n",
       "</thead>\n",
       "<tbody>\n",
       "\t<tr><td>63</td><td>1</td><td>1</td><td>145</td><td>233</td><td>1</td><td>2</td><td>150</td><td>0</td><td>2.3</td><td>3</td><td>0</td><td>6.0</td><td>FALSE</td></tr>\n",
       "\t<tr><td>37</td><td>1</td><td>3</td><td>130</td><td>250</td><td>0</td><td>0</td><td>187</td><td>0</td><td>3.5</td><td>3</td><td>0</td><td>3.0</td><td>FALSE</td></tr>\n",
       "\t<tr><td>41</td><td>0</td><td>2</td><td>130</td><td>204</td><td>0</td><td>2</td><td>172</td><td>0</td><td>1.4</td><td>1</td><td>0</td><td>3.0</td><td>FALSE</td></tr>\n",
       "\t<tr><td>57</td><td>0</td><td>4</td><td>120</td><td>354</td><td>0</td><td>0</td><td>163</td><td>1</td><td>0.6</td><td>1</td><td>0</td><td>3.0</td><td>FALSE</td></tr>\n",
       "\t<tr><td>57</td><td>1</td><td>4</td><td>140</td><td>192</td><td>0</td><td>0</td><td>148</td><td>0</td><td>0.4</td><td>2</td><td>0</td><td>6.0</td><td>FALSE</td></tr>\n",
       "\t<tr><td>56</td><td>0</td><td>2</td><td>140</td><td>294</td><td>0</td><td>2</td><td>153</td><td>0</td><td>1.3</td><td>2</td><td>0</td><td>3.0</td><td>FALSE</td></tr>\n",
       "</tbody>\n",
       "</table>\n"
      ],
      "text/latex": [
       "A tibble: 6 × 14\n",
       "\\begin{tabular}{llllllllllllll}\n",
       " age & sex & chest\\_pain & blood\\_pressure & cholesterol & blood\\_sugar & rest\\_ecg & heart\\_rate & angina & st\\_depression & slope & num\\_vessels & thal & diagnosis\\\\\n",
       " <dbl> & <fct> & <fct> & <dbl> & <dbl> & <fct> & <fct> & <dbl> & <fct> & <dbl> & <fct> & <int> & <fct> & <fct>\\\\\n",
       "\\hline\n",
       "\t 63 & 1 & 1 & 145 & 233 & 1 & 2 & 150 & 0 & 2.3 & 3 & 0 & 6.0 & FALSE\\\\\n",
       "\t 37 & 1 & 3 & 130 & 250 & 0 & 0 & 187 & 0 & 3.5 & 3 & 0 & 3.0 & FALSE\\\\\n",
       "\t 41 & 0 & 2 & 130 & 204 & 0 & 2 & 172 & 0 & 1.4 & 1 & 0 & 3.0 & FALSE\\\\\n",
       "\t 57 & 0 & 4 & 120 & 354 & 0 & 0 & 163 & 1 & 0.6 & 1 & 0 & 3.0 & FALSE\\\\\n",
       "\t 57 & 1 & 4 & 140 & 192 & 0 & 0 & 148 & 0 & 0.4 & 2 & 0 & 6.0 & FALSE\\\\\n",
       "\t 56 & 0 & 2 & 140 & 294 & 0 & 2 & 153 & 0 & 1.3 & 2 & 0 & 3.0 & FALSE\\\\\n",
       "\\end{tabular}\n"
      ],
      "text/markdown": [
       "\n",
       "A tibble: 6 × 14\n",
       "\n",
       "| age &lt;dbl&gt; | sex &lt;fct&gt; | chest_pain &lt;fct&gt; | blood_pressure &lt;dbl&gt; | cholesterol &lt;dbl&gt; | blood_sugar &lt;fct&gt; | rest_ecg &lt;fct&gt; | heart_rate &lt;dbl&gt; | angina &lt;fct&gt; | st_depression &lt;dbl&gt; | slope &lt;fct&gt; | num_vessels &lt;int&gt; | thal &lt;fct&gt; | diagnosis &lt;fct&gt; |\n",
       "|---|---|---|---|---|---|---|---|---|---|---|---|---|---|\n",
       "| 63 | 1 | 1 | 145 | 233 | 1 | 2 | 150 | 0 | 2.3 | 3 | 0 | 6.0 | FALSE |\n",
       "| 37 | 1 | 3 | 130 | 250 | 0 | 0 | 187 | 0 | 3.5 | 3 | 0 | 3.0 | FALSE |\n",
       "| 41 | 0 | 2 | 130 | 204 | 0 | 2 | 172 | 0 | 1.4 | 1 | 0 | 3.0 | FALSE |\n",
       "| 57 | 0 | 4 | 120 | 354 | 0 | 0 | 163 | 1 | 0.6 | 1 | 0 | 3.0 | FALSE |\n",
       "| 57 | 1 | 4 | 140 | 192 | 0 | 0 | 148 | 0 | 0.4 | 2 | 0 | 6.0 | FALSE |\n",
       "| 56 | 0 | 2 | 140 | 294 | 0 | 2 | 153 | 0 | 1.3 | 2 | 0 | 3.0 | FALSE |\n",
       "\n"
      ],
      "text/plain": [
       "  age sex chest_pain blood_pressure cholesterol blood_sugar rest_ecg heart_rate\n",
       "1 63  1   1          145            233         1           2        150       \n",
       "2 37  1   3          130            250         0           0        187       \n",
       "3 41  0   2          130            204         0           2        172       \n",
       "4 57  0   4          120            354         0           0        163       \n",
       "5 57  1   4          140            192         0           0        148       \n",
       "6 56  0   2          140            294         0           2        153       \n",
       "  angina st_depression slope num_vessels thal diagnosis\n",
       "1 0      2.3           3     0           6.0  FALSE    \n",
       "2 0      3.5           3     0           3.0  FALSE    \n",
       "3 0      1.4           1     0           3.0  FALSE    \n",
       "4 1      0.6           1     0           3.0  FALSE    \n",
       "5 0      0.4           2     0           6.0  FALSE    \n",
       "6 0      1.3           2     0           3.0  FALSE    "
      ]
     },
     "metadata": {},
     "output_type": "display_data"
    },
    {
     "data": {
      "text/html": [
       "227"
      ],
      "text/latex": [
       "227"
      ],
      "text/markdown": [
       "227"
      ],
      "text/plain": [
       "[1] 227"
      ]
     },
     "metadata": {},
     "output_type": "display_data"
    },
    {
     "data": {
      "text/html": [
       "76"
      ],
      "text/latex": [
       "76"
      ],
      "text/markdown": [
       "76"
      ],
      "text/plain": [
       "[1] 76"
      ]
     },
     "metadata": {},
     "output_type": "display_data"
    }
   ],
   "source": [
    "cleveland_split <- initial_split(cleveland_data, prop = 0.75, strata = diagnosis)\n",
    "cleveland_train <- training(cleveland_split)\n",
    "cleveland_test <- testing(cleveland_split)\n",
    "\n",
    "head(cleveland_train)\n",
    "\n",
    "nrow(cleveland_train)\n",
    "nrow(cleveland_test)"
   ]
  },
  {
   "cell_type": "markdown",
   "id": "28fae061-34c2-48f2-8a3a-2ced19e546fd",
   "metadata": {},
   "source": [
    "## Summary and Visualization of the Training Data"
   ]
  },
  {
   "cell_type": "markdown",
   "id": "ad3442bb-2ce6-41e5-9bb5-a2243fffb74e",
   "metadata": {},
   "source": [
    "- Before we make our model we need to make sure that the two classes actually have different averages in serum cholersterol and maximum heart rate achieved.\n",
    "\n",
    "- To do this, we will use `group_by` and `summarize` to create a table with the minimum, maximum and mean of each of our predictors."
   ]
  },
  {
   "cell_type": "code",
   "execution_count": null,
   "id": "88ee5c18-40b8-48eb-8f10-e51031b88d8d",
   "metadata": {},
   "outputs": [],
   "source": []
  }
 ],
 "metadata": {
  "kernelspec": {
   "display_name": "R",
   "language": "R",
   "name": "ir"
  },
  "language_info": {
   "codemirror_mode": "r",
   "file_extension": ".r",
   "mimetype": "text/x-r-source",
   "name": "R",
   "pygments_lexer": "r",
   "version": "4.3.1"
  }
 },
 "nbformat": 4,
 "nbformat_minor": 5
}
