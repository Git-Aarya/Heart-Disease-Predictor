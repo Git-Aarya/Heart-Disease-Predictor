{
 "cells": [
  {
   "cell_type": "markdown",
   "id": "7ada79aa-94cf-4f41-955a-a90289e5f38b",
   "metadata": {},
   "source": [
    "# Heart Disease Prediction Using Machine Learning"
   ]
  },
  {
   "cell_type": "markdown",
   "id": "467540aa-a6b8-4e57-bb6b-11725a2020ca",
   "metadata": {},
   "source": [
    "## Introduction"
   ]
  },
  {
   "cell_type": "markdown",
   "id": "7f9d481e-533e-421a-a594-47daa86b876d",
   "metadata": {},
   "source": [
    "Heart disease is a major health issue worldwide, and it is difficult to discover the disease before symptoms emerge. Our goal of this project is to utilize machine learning techniques and predict whether or not a person has heart disease. This will be done through our dataset, which is derived from the Cleveland Heart Disease Database and consists of 14 important attributes selected from a total of 76. It encompasses a range of variables including physical and psychological details, such as age, sex, cholesterol, etc. It also categorizes individuals based on the absence (value 0) or presence (values 1-4) of heart disease, providing a clear framework for analyzing the predictive power of medical test results. "
   ]
  },
  {
   "cell_type": "markdown",
   "id": "bd9da4b0-2e8a-4956-95b3-3d7945520052",
   "metadata": {},
   "source": [
    "## Methods"
   ]
  },
  {
   "cell_type": "markdown",
   "id": "b9dfa161-4d83-4a01-87a7-2cc6e19282fe",
   "metadata": {},
   "source": [
    "### We are going to do the following: "
   ]
  },
  {
   "cell_type": "markdown",
   "id": "a5ae9cd6-d809-464c-ac7c-927ebd9c49cc",
   "metadata": {},
   "source": [
    "1. Mutate the data to make sure categorical variables are treated as factors\n",
    "2. Change the variable names to more descriptive and human-readable\n",
    "3. Use k-nearest neighbors regression algorithm to predict the likeliness of a person having a heart disease using the blood pressure, cholesterol, blood sugar and heart rate attributes.\n",
    "4. We will scale the data in order to standardize the data.\n",
    "5. We will use a bar plot to visualize how an attribute affects the likelihood to have a heart disease.\n"
   ]
  },
  {
   "cell_type": "markdown",
   "id": "4aebe3bf-9d05-45a8-bdde-774cad81b909",
   "metadata": {},
   "source": [
    "## EXPECTED OUTCOMES AND SIGNIFICANCE"
   ]
  },
  {
   "cell_type": "markdown",
   "id": "33afbf6a-16e5-4c09-a110-d380121861e9",
   "metadata": {},
   "source": [
    "### What do you expect to find?\n",
    "After this project, we expect to find that cholesterol, heart rate, fasting blood sugar and blood pressure have a positive relation to the probability of having heart diseases."
   ]
  },
  {
   "cell_type": "markdown",
   "id": "b0167ea4-f07d-4127-bdc4-32188f3f4a9f",
   "metadata": {},
   "source": [
    "### What impact could such findings have?\n",
    "With these findings, we can track down symptoms of heart disease earlier than usual, allowing doctors to begin treatment in the early stages, or warn the patient of potential heart disease.\n"
   ]
  },
  {
   "cell_type": "markdown",
   "id": "cdf52859-8259-476f-a77d-e70ee0345c16",
   "metadata": {},
   "source": [
    "### What future questions could this lead to?\n",
    "Future studies could implement similar algorithms to find other health diseases."
   ]
  },
  {
   "cell_type": "code",
   "execution_count": null,
   "id": "9b49e43c-d42b-4053-8335-6436006d48d0",
   "metadata": {},
   "outputs": [],
   "source": [
    "library(tidyverse)\n",
    "library(tidymodels)\n",
    "library(cowplot)"
   ]
  },
  {
   "cell_type": "code",
   "execution_count": null,
   "id": "23d1e79e",
   "metadata": {},
   "outputs": [],
   "source": [
    "# clean and wrangle data\n",
    "cleveland_data <- read_csv(\"data/processed_cleveland.csv\")|>\n",
    "                mutate(sex = as_factor(sex),\n",
    "                       cp = as_factor(cp),\n",
    "                       fbs = as_factor(fbs),\n",
    "                       restecg = as_factor(restecg),\n",
    "                       exang = as_factor(exang),\n",
    "                       slope = as_factor(slope),\n",
    "                       thal = as_factor(thal),\n",
    "                       num = as_factor(num),\n",
    "                       ca = as.integer(ca))|>\n",
    "                rename(chest_pain = cp,\n",
    "                       blood_pressure = trestbps,\n",
    "                       cholesterol = chol,\n",
    "                       blood_sugar = fbs,\n",
    "                       rest_ecg = restecg,\n",
    "                       heart_rate = thalach,\n",
    "                       angina = exang,\n",
    "                       st_depression = oldpeak,\n",
    "                       num_vessels = ca,\n",
    "                       diagnosis = num)\n",
    "\n",
    "cleveland_data"
   ]
  },
  {
   "cell_type": "code",
   "execution_count": null,
   "id": "244e24c7",
   "metadata": {},
   "outputs": [],
   "source": [
    "# splitting data into training and testing\n",
    "cleveland_split <- initial_split(cleveland_data, prop = 0.75, strata = diagnosis)\n",
    "cleveland_train <- training(cleveland_split)\n",
    "cleveland_test <- testing(cleveland_split)\n",
    "\n",
    "glimpse(cleveland_train)"
   ]
  },
  {
   "cell_type": "code",
   "execution_count": null,
   "id": "36ad96eb",
   "metadata": {},
   "outputs": [],
   "source": [
    "# summarizing the number of observations of each diagnosis in the training data\n",
    "heart_disease_proportions <- cleveland_train |>\n",
    "                          group_by(diagnosis) |>\n",
    "                          summarize(n = n()) |>\n",
    "                          mutate(percent = 100*n/nrow(cleveland_train))\n",
    "heart_disease_proportions\n",
    "\n",
    "# summarizing the mean of blood pressure, cholesterol, and heart rate for each diagnosis\n",
    "average_values <- cleveland_train |>\n",
    "                group_by(diagnosis) |>\n",
    "                summarize(mean_blood_pressure = mean(blood_pressure),\n",
    "                          mean_cholesterol = mean(cholesterol),\n",
    "                          mean_heart_rate = mean(heart_rate))\n",
    "average_values"
   ]
  },
  {
   "cell_type": "code",
   "execution_count": null,
   "id": "45d21a88",
   "metadata": {},
   "outputs": [],
   "source": [
    "rbp_chol_plot <- ggplot(cleveland_train, aes(x = blood_pressure, y = cholesterol, color = diagnosis)) +\n",
    "                geom_point(alpha = 0.6) +\n",
    "                labs(x = \"Resting blood pressure in mm Hg\", \n",
    "                     y = \"Serum cholesterol level in mg/dl\", \n",
    "                     color = \"Diagnosis of heart disease\") +\n",
    "                theme(text = element_text(size = 13))\n",
    "rbp_chol_plot"
   ]
  },
  {
   "cell_type": "code",
   "execution_count": null,
   "id": "f7e4dc72",
   "metadata": {},
   "outputs": [],
   "source": [
    "rbp_hr_plot <- ggplot(cleveland_train, aes(x = blood_pressure, y = heart_rate, color = diagnosis)) +\n",
    "                geom_point(alpha = 0.6) +\n",
    "                labs(x = \"Resting blood pressure in mm Hg\", \n",
    "                     y = \"Maximum heart rate\", \n",
    "                     color = \"Diagnosis of heart disease\") +\n",
    "                theme(text = element_text(size = 13))\n",
    "rbp_hr_plot"
   ]
  },
  {
   "cell_type": "code",
   "execution_count": null,
   "id": "a6ad7b0f",
   "metadata": {},
   "outputs": [],
   "source": [
    "fbs_ratio_plot <- ggplot(cleveland_train, aes(x = blood_sugar, fill = diagnosis)) +\n",
    "                geom_bar(position = \"fill\") +\n",
    "                labs(x = \"Fasting blood sugar > 120 mg/dl\",\n",
    "                     y = \"Ratio\",\n",
    "                     fill = \"Diagnosis of heart disease\") +\n",
    "                theme(text = element_text(size = 12))\n",
    "fbs_ratio_plot"
   ]
  },
  {
   "cell_type": "code",
   "execution_count": null,
   "id": "f08db305",
   "metadata": {},
   "outputs": [],
   "source": [
    "cp_ratio_plot <- ggplot(cleveland_train, aes(x = chest_pain, fill = diagnosis)) +\n",
    "                geom_bar(position = \"fill\") +\n",
    "                labs(x = \"Chest pain type\",\n",
    "                     y = \"Ratio\",\n",
    "                     fill = \"Diagnosis of heart disease\") +\n",
    "                theme(text = element_text(size = 12))\n",
    "cp_ratio_plot"
   ]
  },
  {
   "cell_type": "code",
   "execution_count": null,
   "id": "8576abdf",
   "metadata": {},
   "outputs": [],
   "source": [
    "bp_box_plot <- cleveland_train |> ggplot(aes(x = diagnosis, y = blood_pressure)) + geom_boxplot() +\n",
    "            labs(x = \"Diagnosis of heart disease\", y = \"Blood Pressure\") + \n",
    "            theme(text = element_text(size = 12))\n",
    "\n",
    "chol_box_plot <- cleveland_train |> ggplot(aes(x = diagnosis, y = cholesterol)) + geom_boxplot() +\n",
    "            labs(x = \"Diagnosis of heart disease\", y = \"Cholesterol\") + \n",
    "            theme(text = element_text(size = 12))\n",
    "\n",
    "hr_box_plot <- cleveland_train |> ggplot(aes(x = diagnosis, y = heart_rate)) + geom_boxplot() +\n",
    "            labs(x = \"Diagnosis of heart disease\", y = \"Heart Rate\") + \n",
    "            theme(text = element_text(size = 12))\n",
    "\n",
    "plot_grid(bp_box_plot, chol_box_plot, hr_box_plot, ncol = 2)"
   ]
  },
  {
   "cell_type": "code",
   "execution_count": null,
   "id": "07a86474-abe1-47c4-b195-bb3f5561ffee",
   "metadata": {},
   "outputs": [],
   "source": []
  }
 ],
 "metadata": {
  "kernelspec": {
   "display_name": "R",
   "language": "R",
   "name": "ir"
  },
  "language_info": {
   "codemirror_mode": "r",
   "file_extension": ".r",
   "mimetype": "text/x-r-source",
   "name": "R",
   "pygments_lexer": "r",
   "version": "4.3.1"
  }
 },
 "nbformat": 4,
 "nbformat_minor": 5
}
