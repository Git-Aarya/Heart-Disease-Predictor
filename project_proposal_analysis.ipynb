{
 "cells": [
  {
   "cell_type": "code",
   "execution_count": null,
   "id": "c0b01719-1e98-4cd6-bbcd-843b2a8995c7",
   "metadata": {},
   "outputs": [],
   "source": [
    "library(tidyverse)\n",
    "library(tidymodels)"
   ]
  },
  {
   "cell_type": "code",
   "execution_count": null,
   "id": "23e8b72a-0f2c-4664-9871-3071ff675701",
   "metadata": {},
   "outputs": [],
   "source": [
    "# clean and wrangle data\n",
    "cleveland_data <- read_csv(\"data/processed_cleveland.csv\")|>\n",
    "                mutate(sex = as_factor(sex),\n",
    "                       cp = as_factor(cp),\n",
    "                       fbs = as_factor(fbs),\n",
    "                       restecg = as_factor(restecg),\n",
    "                       exang = as_factor(exang),\n",
    "                       slope = as_factor(slope),\n",
    "                       thal = as_factor(thal),\n",
    "                       num = as_factor(num),\n",
    "                       ca = as.integer(ca))|>\n",
    "                rename(chest_pain = cp,\n",
    "                       blood_pressure = trestbps,\n",
    "                       cholesterol = chol,\n",
    "                       blood_sugar = fbs,\n",
    "                       rest_ecg = restecg,\n",
    "                       heart_rate = thalach,\n",
    "                       angina = exang,\n",
    "                       st_depression = oldpeak,\n",
    "                       num_vessels = ca,\n",
    "                       diagnosis = num)\n",
    "\n",
    "cleveland_data"
   ]
  },
  {
   "cell_type": "code",
   "execution_count": null,
   "id": "f978ff59-90e8-4c9a-9697-4bdfd6303c11",
   "metadata": {},
   "outputs": [],
   "source": [
    "# splitting data into training and testing\n",
    "cleveland_split <- initial_split(cleveland_data, prop = 0.75, strata = diagnosis)\n",
    "cleveland_train <- training(cleveland_split)\n",
    "cleveland_test <- testing(cleveland_split)\n",
    "\n",
    "glimpse(cleveland_train)"
   ]
  },
  {
   "cell_type": "code",
   "execution_count": null,
   "id": "6c23c005-3ef9-4712-85a5-c6bc153e3884",
   "metadata": {},
   "outputs": [],
   "source": [
    "# summarizing the number of observations of each diagnosis in the training data\n",
    "heart_disease_proportions <- cleveland_train |>\n",
    "                          group_by(diagnosis) |>\n",
    "                          summarize(n = n()) |>\n",
    "                          mutate(percent = 100*n/nrow(cleveland_train))\n",
    "\n",
    "heart_disease_proportions"
   ]
  },
  {
   "cell_type": "code",
   "execution_count": null,
   "id": "f127d414-ac4c-4ad7-a7e1-e2f564ca6be9",
   "metadata": {},
   "outputs": [],
   "source": [
    "rbp_chol_plot <- ggplot(cleveland_train, aes(x = blood_pressure, y = cholesterol, color = diagnosis)) +\n",
    "                geom_point(alpha = 0.6) +\n",
    "                labs(x = \"Resting blood pressure in mm Hg\", \n",
    "                     y = \"Serum cholesterol level in mg/dl\", \n",
    "                     color = \"Diagnosis of heart disease\") +\n",
    "                theme(text = element_text(size = 13))\n",
    "rbp_chol_plot"
   ]
  },
  {
   "cell_type": "code",
   "execution_count": null,
   "id": "7b065a0d-4165-4e5e-907b-c44143987d04",
   "metadata": {},
   "outputs": [],
   "source": [
    "rbp_hr_plot <- ggplot(cleveland_train, aes(x = blood_pressure, y = heart_rate, color = diagnosis)) +\n",
    "                geom_point(alpha = 0.6) +\n",
    "                labs(x = \"Resting blood pressure in mm Hg\", \n",
    "                     y = \"Maximum heart rate\", \n",
    "                     color = \"Diagnosis of heart disease\") +\n",
    "                theme(text = element_text(size = 13))\n",
    "rbp_hr_plot"
   ]
  },
  {
   "cell_type": "code",
   "execution_count": null,
   "id": "2260c3b6-ff53-442b-b5d7-9f2e0e2d1907",
   "metadata": {},
   "outputs": [],
   "source": [
    "fbs_ratio_plot <- ggplot(cleveland_train, aes(x = blood_sugar, fill = diagnosis)) +\n",
    "                geom_bar(position = \"fill\") +\n",
    "                labs(x = \"Fasting blood sugar > 120 mg/dl\",\n",
    "                     y = \"Ratio\",\n",
    "                     fill = \"Diagnosis of heart disease\") +\n",
    "                theme(text = element_text(size = 12))\n",
    "fbs_ratio_plot"
   ]
  },
  {
   "cell_type": "code",
   "execution_count": null,
   "id": "c9e083d1-6029-411a-a471-afa52133ed34",
   "metadata": {},
   "outputs": [],
   "source": [
    "cp_ratio_plot <- ggplot(cleveland_train, aes(x = chest_pain, fill = diagnosis)) +\n",
    "                geom_bar(position = \"fill\") +\n",
    "                labs(x = \"Chest pain type\",\n",
    "                     y = \"Ratio\",\n",
    "                     fill = \"Diagnosis of heart disease\") +\n",
    "                theme(text = element_text(size = 12))\n",
    "cp_ratio_plot"
   ]
  },
  {
   "cell_type": "code",
   "execution_count": null,
   "id": "aba3fe49-ef26-4f33-85ed-d78ed58dad55",
   "metadata": {},
   "outputs": [],
   "source": []
  }
 ],
 "metadata": {
  "kernelspec": {
   "display_name": "R",
   "language": "R",
   "name": "ir"
  },
  "language_info": {
   "codemirror_mode": "r",
   "file_extension": ".r",
   "mimetype": "text/x-r-source",
   "name": "R",
   "pygments_lexer": "r",
   "version": "4.3.1"
  }
 },
 "nbformat": 4,
 "nbformat_minor": 5
}
